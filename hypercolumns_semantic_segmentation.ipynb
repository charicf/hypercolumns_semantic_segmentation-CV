{
 "cells": [
  {
   "cell_type": "markdown",
   "metadata": {},
   "source": [
    "# Hypercolumns for Semantic Segmentation"
   ]
  },
  {
   "cell_type": "markdown",
   "metadata": {},
   "source": [
    "The importance of semantic segmentation comes from the necessity of understanding the context in a scene. This is very useful for different applications that involve handling scenes in real life in real-time. The task of semantic segmentation can be defined as a fine-grained inference by making dense predictions to infer labels for each pixel and return labeled regions. If done correctly, one can delineate the contours of all the objects appearing on the input image. As a result of classifying\n",
    "each pixel, the task is more challenging.\n",
    "\n",
    "In their paper \"Hypercolumns for Object Segmentation and Fine-grained Localization,\" B. Hariharan et al. had the idea of representing pixels by a set of features along different layers, shallow and deep ones, of the CNN. In this way, they take advantage of the precise localization of features present on earlier layers and the semantics that shallow layers provide. They defined the hypercolumn at a pixel as the vector of activations of all CNN units above that pixel.\n",
    "\n",
    "In the original paper, the authors used the hypercolumn representation to perform semantic segmentation and keypoint predictions for joints localization. The purpose of this project is to understand and implement this approach. Moreover, it will be applied to a different CNN called **SqueezeNet** to observe its performance."
   ]
  },
  {
   "cell_type": "code",
   "execution_count": null,
   "metadata": {
    "id": "luBJQ8KMXrC5"
   },
   "outputs": [],
   "source": [
    "# Import packages needed for the project\n",
    "\n",
    "import argparse\n",
    "import torch\n",
    "import torch.nn as nn\n",
    "import torch.nn.functional as F\n",
    "import torch.optim as optim\n",
    "from torchvision import datasets, transforms\n",
    "import torchvision.models as models\n",
    "from torch.utils import data\n",
    "import torch.optim as optim\n",
    "import os.path\n",
    "from PIL import Image\n",
    "import random\n",
    "from matplotlib import pyplot as plt\n",
    "\n",
    "import collections\n",
    "import numpy as np\n",
    "import PIL\n",
    "import imageio\n",
    "import cv2\n",
    "from google.colab.patches import cv2_imshow\n",
    "import pdb\n",
    "#/content/gdrive/MyDrive/Third semester/courses/Adv_vision/Project/code/data/VOCdevkit/VOC2012/JPEGImages\n",
    "#root_dir='/content/gdrive/MyDrive/Third semester/courses/Adv_vision/Project/code'\n",
    "root_dir='/'\n",
    "cnn = 'sqn'"
   ]
  },
  {
   "cell_type": "markdown",
   "metadata": {
    "id": "w_u6Zwyhi1Nm"
   },
   "source": [
    "### Dataset\n",
    "\n",
    "For this project the PASCAL Visual Object Classes 2012 was used. It was thought as a dataset to help generate pixel-wise segmentations giving the class of the object visible at each pixel, or \"background\" otherwise. It has 21 classes including background. It has 1465 training examples and 1450 test examples.\n",
    "\n",
    "For the project, the dataset is mounted in Google Drive folders. Therefore, Drive should be mounted so that Colab can access the files."
   ]
  },
  {
   "cell_type": "code",
   "execution_count": null,
   "metadata": {
    "colab": {
     "base_uri": "https://localhost:8080/"
    },
    "id": "hYUurbLf5T-z",
    "outputId": "502caed9-24ff-47c0-efd9-077c3d882b12"
   },
   "outputs": [
    {
     "name": "stdout",
     "output_type": "stream",
     "text": [
      "Mounted at /content/gdrive\n"
     ]
    }
   ],
   "source": [
    "#from google.colab import drive\n",
    "\n",
    "#drive.mount('/content/gdrive')"
   ]
  },
  {
   "cell_type": "code",
   "execution_count": null,
   "metadata": {
    "id": "Zozn0BcE6VOM"
   },
   "outputs": [],
   "source": [
    "# Uncomment to uncompress the dataset of VOC\n",
    "\n",
    "#!tar -xvf '/content/drive/MyDrive/Third semester/courses/Adv_vision/Project/VOCtrainval_11-May-2012.tar' -C '/content/drive/MyDrive/Third semester/courses/Adv_vision/Project/code/data'"
   ]
  },
  {
   "cell_type": "code",
   "execution_count": null,
   "metadata": {
    "id": "-rAw3tpetlIh"
   },
   "outputs": [],
   "source": [
    "USE_GPU = True\n",
    "if USE_GPU and torch.cuda.is_available():\n",
    "    device = torch.device('cuda')\n",
    "else:\n",
    "    device = torch.device('cpu')"
   ]
  },
  {
   "cell_type": "markdown",
   "metadata": {
    "id": "wb1v_EiQerV6"
   },
   "source": [
    "The first step is to obtain the dataset and create the class to load the data. "
   ]
  },
  {
   "cell_type": "code",
   "execution_count": null,
   "metadata": {
    "id": "FvPriT5xpVVZ"
   },
   "outputs": [],
   "source": [
    "class PascalVOC(data.Dataset):\n",
    "    def __init__(self,root=root_dir+'/data/VOCdevkit/VOC2012', split=\"train\", img_transform=None, label_transform=None): #'./data/VOCdevkit/VOC2012'\n",
    "        self.root = root\n",
    "        self.split = split\n",
    "        #self.n_classes = 21\n",
    "        self.img_transform = img_transform\n",
    "        self.label_transform = label_transform\n",
    "        self.im_height = 224\n",
    "        self.im_width = 224\n",
    "        #self.mean_pixel = np.array([103.939, 116.779, 123.68]) # Se puede comentar?\n",
    "\n",
    "        #pdb.set_trace()\n",
    "        #load name of images(files) into self.files\n",
    "        self.files = collections.defaultdict(list)\n",
    "        for split in [\"train\", \"val\"]:\n",
    "            file_list = tuple(open(root + '/ImageSets/Segmentation/' + split + '.txt', 'r')) # open txt with name of images for training/val\n",
    "            file_list = [id_.rstrip() for id_ in file_list] # Create list of paths for each image\n",
    "            self.files[split] = file_list\n",
    "\n",
    "    def __len__(self):\n",
    "        return len(self.files[self.split])\n",
    "\n",
    "    def __getitem__(self, index):\n",
    "        # Get each images and corresponding label\n",
    "        img_name = self.files[self.split][index]\n",
    "        img_path = self.root + '/JPEGImages/' + img_name + '.jpg'\n",
    "        label_path = self.root + '/SegmentationClass/' + img_name + '.png'\n",
    "\n",
    "        # Open image as RGB (3 channels) and in Pallete (1 channel). Labels are masks with the segmented region colored (value given by the Pallete) and black background\n",
    "        pil_img = Image.open(img_path).convert('RGB')\n",
    "        pil_lbl = Image.open(label_path).convert(\"P\")\n",
    "\n",
    "        #Resize images to self.im_height, self.im_width\n",
    "        pil_img = pil_img.resize((self.im_height, self.im_width), PIL.Image.BILINEAR)\n",
    "        pil_lbl = pil_lbl.resize((self.im_height, self.im_width), PIL.Image.NEAREST)\n",
    "\n",
    "        img = np.array(pil_img)\n",
    "        lbl = np.array(pil_lbl)\n",
    "        lbl[lbl==255] = 0 # Set region's white boarders to black \n",
    "\n",
    "        pil_img = 0\n",
    "        pil_lbl = 0\n",
    "\n",
    "        img = np.swapaxes(img, 0, 2)\n",
    "        img = np.swapaxes(img, 1, 2)\n",
    "\n",
    "        return torch.from_numpy(img), torch.from_numpy(lbl).long()"
   ]
  },
  {
   "cell_type": "markdown",
   "metadata": {},
   "source": [
    "## Creation and training of the classifier"
   ]
  },
  {
   "cell_type": "markdown",
   "metadata": {
    "id": "BRp9OrjPxZ6c"
   },
   "source": [
    "As the semantic segmentation task implies classifying each pixel into a class, a classifier has to be created. For computing efficiency, this classifier will be pre-trained alone and then fine-tuned when training the whole model. Hence, after loading the dataset, the next step is to train the classifier which will classify each pixel into one of the 21 classes. To do so, this classifier has to be trained with hypercolumns as training examples. This hypercolumns are extracted from the training set. **The first step in this process is to define hypercolumns.**"
   ]
  },
  {
   "cell_type": "markdown",
   "metadata": {},
   "source": [
    "### Hypercolumns class\n",
    "\n",
    "As stated before, an hypercolumn at a given input location is defined  as\n",
    "the outputs of all units above that location at all (or some) layers of\n",
    "the CNN, stacked into one vector. Therefore, a CNN has to be defined to obtain the features from each layer. In this project, the initial CNN will be the well defined VGG-11. This CNN can be downloaded from PyTorch directly along with its trained parameters. The second CNN that will be tested will be the SqueezeNet. As it is composed of Fire blocks, the extraction process is different. \n",
    "Both CNNs will be defined in a Hypercolumn class which will create the hypercolumns when forward feeded."
   ]
  },
  {
   "cell_type": "code",
   "execution_count": null,
   "metadata": {
    "id": "PJhIBB-_Gln9"
   },
   "outputs": [],
   "source": [
    "'''\n",
    "Example of VGG-11 net:\n",
    "      [Conv2d(3, 64, kernel_size=(3, 3), stride=(1, 1), padding=(1, 1)),\n",
    "       ReLU(inplace=True),\n",
    "       MaxPool2d(kernel_size=2, stride=2, padding=0, dilation=1, ceil_mode=False),\n",
    "       Conv2d(64, 128, kernel_size=(3, 3), stride=(1, 1), padding=(1, 1)),\n",
    "       ReLU(inplace=True),\n",
    "       MaxPool2d(kernel_size=2, stride=2, padding=0, dilation=1, ceil_mode=False),\n",
    "       Conv2d(128, 256, kernel_size=(3, 3), stride=(1, 1), padding=(1, 1)),\n",
    "       ReLU(inplace=True),\n",
    "       Conv2d(256, 256, kernel_size=(3, 3), stride=(1, 1), padding=(1, 1)),\n",
    "       ReLU(inplace=True),\n",
    "       MaxPool2d(kernel_size=2, stride=2, padding=0, dilation=1, ceil_mode=False),\n",
    "       Conv2d(256, 512, kernel_size=(3, 3), stride=(1, 1), padding=(1, 1)),\n",
    "       ReLU(inplace=True),\n",
    "       Conv2d(512, 512, kernel_size=(3, 3), stride=(1, 1), padding=(1, 1)),\n",
    "       ReLU(inplace=True),\n",
    "       MaxPool2d(kernel_size=2, stride=2, padding=0, dilation=1, ceil_mode=False),\n",
    "       Conv2d(512, 512, kernel_size=(3, 3), stride=(1, 1), padding=(1, 1)),\n",
    "       ReLU(inplace=True),\n",
    "       Conv2d(512, 512, kernel_size=(3, 3), stride=(1, 1), padding=(1, 1)),\n",
    "       ReLU(inplace=True),\n",
    "       MaxPool2d(kernel_size=2, stride=2, padding=0, dilation=1, ceil_mode=False)]\n",
    "'''\n",
    "\n",
    "class Hypercolumn(nn.Module):\n",
    "    def __init__(self, net):\n",
    "        super(Hypercolumn, self).__init__()\n",
    "\n",
    "        if net == 'vgg':\n",
    "            print('using VGG-11')\n",
    "            self.net = models.vgg11(pretrained=True)\n",
    "\n",
    "          # features contains features (layers: conv, relu, maxpool), avgpool, and the classifier (linear, relu, dropout). \n",
    "          # Children returns only features (21 layers: conv, relu, maxpool)\n",
    "            self.feature_list = list(self.net.features.children())\n",
    "\n",
    "          #Index of conv2d layers from which hyperplane features will be taken\n",
    "            self.index_layers_to_extract = [0,3,8,13,18]\n",
    "\n",
    "        elif net == 'sqn':\n",
    "            print('using SqueezeNet')\n",
    "            #fire block structure ['squeeze', 'squeeze_activation', 'expand1x1', 'expand1x1_activation', 'expand3x3', 'expand3x3_activation']\n",
    "            # load the pre-trained CNN\n",
    "            self.net = models.squeezenet1_0(pretrained=True)\n",
    "            self.feature_list = list(self.net.features.children())\n",
    "            self.index_layers_to_extract = [0,3,4,7,9,12]\n",
    "\n",
    "    def forward(self, x):\n",
    "\n",
    "        layer_output = x\n",
    "\n",
    "        activations = []\n",
    "\n",
    "        #Loop over all the layers of the net\n",
    "        for index, layer in enumerate(self.feature_list):\n",
    "\n",
    "            # If the layer is a Fire block (from squeeze net)\n",
    "            if type(layer).__name__ == 'Fire':\n",
    "\n",
    "                layer_output = layer.squeeze_activation(layer.squeeze(layer_output))\n",
    "                expand1x1 = layer.expand1x1(layer_output)\n",
    "                expand3x3 = layer.expand3x3(layer_output)\n",
    "\n",
    "                if (index in self.index_layers_to_extract):\n",
    "\n",
    "                    # Upsample the features\n",
    "                    upsampled_layer_output = F.interpolate(torch.cat([expand1x1,expand3x3], 1), size=224, mode='bilinear', align_corners=True)\n",
    "                    activations.append(upsampled_layer_output) # activations have the features from each layer after upsampling\n",
    "\n",
    "                layer_output = torch.cat([layer.expand1x1_activation(expand1x1),layer.expand3x3_activation(expand3x3)], 1)\n",
    "\n",
    "            else:\n",
    "                #Apply layer\n",
    "                layer_output = layer(layer_output)\n",
    "\n",
    "                #In the case of a conv2d layer, save activation\n",
    "                if (index in self.index_layers_to_extract):\n",
    "                    # Upsample the features\n",
    "                    upsampled_layer_output = F.interpolate(layer_output, size=224, mode='bilinear', align_corners=True)\n",
    "                    activations.append(upsampled_layer_output) # activations have the features from each layer after upsampling\n",
    "\n",
    "        # Finally, layers are combined into the sum of all channels of the layers in activation\n",
    "        #VGG: 1472 = 64+128+256+512+512. Shape: [1, 1472, 224, 224]\n",
    "        #SqueezeNet: 1504= 96+128+128+256+384+512\n",
    "        output = torch.cat(activations, dim = 1)\n",
    "        return output\n",
    "\n"
   ]
  },
  {
   "cell_type": "markdown",
   "metadata": {
    "id": "SaYjzRZ8JPcg"
   },
   "source": [
    "### Pixel classifier\n",
    "\n",
    "Before obtaining the samples of hypercolumns to train the pixel classifier, it has to be defined. This classifier is a fully connected network with two layers. It recieves as input the extracted hypercolums and outputs a matrix of shape [H x W x 21] probabilities."
   ]
  },
  {
   "cell_type": "code",
   "execution_count": null,
   "metadata": {
    "id": "kbOxJ5klJOUu"
   },
   "outputs": [],
   "source": [
    "class FCClassifier(nn.Module):\n",
    "\n",
    "    def __init__(self, net, n_classes=21):\n",
    "        super(FCClassifier, self).__init__()\n",
    "\n",
    "        #Save means and stds\n",
    "        features = np.load(root_dir+\"/hypercolumn_samples/pre-trained/\"+net+\"/feats_x.npy\")        \n",
    "        means = np.mean(features, axis=0)\n",
    "        stds = np.std(features, axis=0)\n",
    "\n",
    "        np.save(root_dir+\"/hypercolumn_samples/mean.npy\", means)\n",
    "        np.save(root_dir+\"/hypercolumn_samples/std.npy\", stds)  \n",
    "\n",
    "        self.mean = torch.Tensor(means)\n",
    "        self.std = torch.Tensor(stds)\n",
    "\n",
    "        # Fully coneccted clasifier with two layers\n",
    "        if net == 'vgg':\n",
    "            self.fc1 = nn.Linear(1472,512)\n",
    "            self.fc2 = nn.Linear(512,21)\n",
    "        elif net=='sqn':\n",
    "            self.fc1 = nn.Linear(1504,512)\n",
    "            self.fc2 = nn.Linear(512,21)\n",
    "\n",
    "    def forward(self, x):\n",
    "        # batch normalization\n",
    "        x = (x - self.mean)/(self.std+ 1e-5)\n",
    "\n",
    "        x = self.fc1(x)\n",
    "        x = F.relu(x)\n",
    "\n",
    "        x = self.fc2(x)\n",
    "\n",
    "        #probs = F.log_softmax(x, dim=0)\n",
    "\n",
    "        return x"
   ]
  },
  {
   "cell_type": "markdown",
   "metadata": {
    "id": "ebvipHDcz9Xu"
   },
   "source": [
    "Once the Hypercolumn class has been defined, the next step is to extract the hypercolum examples to train the classifier. To do so, the function 'extract_samples' will receive a hypercolumn object the dataset and the selected network. It will return a subsample of hypercolumns. In order to be efficient, it will sample 3 pixels per image from each class."
   ]
  },
  {
   "cell_type": "code",
   "execution_count": null,
   "metadata": {
    "id": "-379ezTOzWQz"
   },
   "outputs": [],
   "source": [
    "def extract_samples(hypercolumn, dataset, net):\n",
    "\n",
    "    samples_features = []\n",
    "    samples_labels = []\n",
    "    net_dim = 1472  if net=='vgg' else 1504\n",
    "    #print(net_dim)\n",
    "\n",
    "    for image_idx in range(len(dataset)):\n",
    "        # Get image(3 channels) and labels (1 channel)\n",
    "        images, labels = dataset[image_idx]\n",
    "        \n",
    "        #Get hypercolumn features\n",
    "        with torch.no_grad():\n",
    "            features = hypercolumn.forward(images.cpu().float().unsqueeze(0)) # Hypercolumn features are of size [1, 1472, 224, 224]\n",
    "\n",
    "        #Total different classes in this image\n",
    "        classes = labels.unique()\n",
    "\n",
    "        #Sample 3 pixels per image from each class\n",
    "        for c in classes:\n",
    "\n",
    "            #Indices of pixels with class c\n",
    "            pixels_indices_for_c = np.argwhere(labels.numpy()==c.numpy())\n",
    "\n",
    "            #Get 3 random pixels\n",
    "            for i in range(0,3):   \n",
    "                random_index = random.randint(0,len(pixels_indices_for_c)-1)\n",
    "                y, x = pixels_indices_for_c[random_index]                \n",
    "\n",
    "                random_feature = features[0,range(net_dim),y,x]\n",
    "                random_label = labels[y,x]\n",
    "\n",
    "                samples_features.append(random_feature.detach().clone().numpy())\n",
    "                samples_labels.append(random_label.detach().clone().numpy())\n",
    "\n",
    "    return np.asarray(samples_features), np.asarray(samples_labels)\n",
    "\n",
    "hypercolumn = Hypercolumn(net=cnn).cpu().float()\n",
    "\n",
    "# Backpropagation is not necessary\n",
    "for param in hypercolumn.parameters():\n",
    "    param.requires_grad = False\n",
    "\n",
    "dataset_train = PascalVOC(split = 'train')\n",
    "\n",
    "features, labels = extract_samples(hypercolumn, dataset_train, net=cnn)\n",
    "#print(features)\n",
    "\n",
    "np.save(root_dir+\"/hypercolumn_samples/feats_x.npy\", features)\n",
    "np.save(root_dir+\"/hypercolumn_samples/feats_y.npy\", labels)\n",
    "#49 mins"
   ]
  },
  {
   "cell_type": "markdown",
   "metadata": {
    "id": "Se5I0YVZkloN"
   },
   "source": [
    "### Pre-train the classifier\n",
    "\n",
    "Having the classifier defined and the hypercolumns as training examples, the next step is to pre-train the classifier. To do so, the features saved in the previous step will be used. It receives a hypercolumn and outputs a label. This is denominated a sparse training because it uses only some hypercolumns to pre train the classifier."
   ]
  },
  {
   "cell_type": "code",
   "execution_count": null,
   "metadata": {
    "id": "_5x8Wn1pkzhl"
   },
   "outputs": [],
   "source": [
    "# As it is a sparse training, the softmax results are very similar (same probability for all classes: [tensor([0.0476, 0.0476, 0.0476, 0.0476, 0.0476, 0.0476, 0.0476, 0.0476, 0.0476, 0.0476, 0.0476, 0.0476, 0.0476, 0.0476, 0.0476, 0.0476, 0.0476, 0.0476, 0.0476, 0.0476, 0.0476]).\n",
    "\n",
    "def cross_entropy1d(predictions, targets):\n",
    "\n",
    "    #logsoftmax = nn.LogSoftmax(dim=1)\n",
    "    #loss = nn.NLLLoss()\n",
    "    #pred = logsoftmax(predictions)\n",
    "    #print('softmax, shape', list(pred[0:10]), pred.shape)\n",
    "    #print('labels, shape', list(targets.unique()), targets.shape)\n",
    "    loss = nn.CrossEntropyLoss()\n",
    "    output = loss(predictions, targets)\n",
    "    #output = loss(pred,targets)  \n",
    "\n",
    "    return output\n",
    "\n",
    "def train(dataset, model, optimizer, epoch):\n",
    "\n",
    "    for epoch in range(num_epochs):\n",
    "\n",
    "        data_x, data_y = dataset\n",
    "\n",
    "        tensor_x = torch.tensor(data_x, dtype=torch.long)\n",
    "        tensor_y = torch.tensor(data_y, dtype=torch.long)\n",
    "\n",
    "        model.train() #Set model in traininig mode\n",
    "\n",
    "        #print(\"Epoch: \"+str(epoch))\n",
    "\n",
    "        # Zero out all of the gradients for the variables which the optimizer will update.\n",
    "        optimizer.zero_grad()\n",
    "\n",
    "        #Forward\n",
    "        predictions = model.forward(tensor_x)\n",
    "        #print('pred, shape', predictions[0], predictions.shape)\n",
    "\n",
    "        #Loss\n",
    "        #loss = cross_entropy1d(predictions, tensor_y)\n",
    "        loss = nn.CrossEntropyLoss()\n",
    "        output = loss(predictions, tensor_y)\n",
    "\n",
    "        #Backwards pass\n",
    "        #loss.backward()\n",
    "        output.backward()\n",
    "\n",
    "        #Update parameters of model\n",
    "        optimizer.step()\n",
    "\n",
    "        torch.save(model, root_dir+\"/models/fc_cls.pkl\")\n",
    "\n",
    "\n",
    "net = cnn\n",
    "classifier = FCClassifier(net).float()\n",
    "optimizer = optim.Adam(classifier.parameters(), lr=1e-3)# pick an optimizer.\n",
    "dataset_x = np.load(root_dir+\"/hypercolumn_samples/pre-trained/\"+net+\"/feats_x.npy\")\n",
    "dataset_y = np.load(root_dir+\"/hypercolumn_samples/pre-trained/\"+net+\"/feats_y.npy\")\n",
    "num_epochs = 20\n",
    "\n",
    "train([dataset_x, dataset_y], classifier, optimizer, num_epochs)\n"
   ]
  },
  {
   "cell_type": "markdown",
   "metadata": {
    "id": "eYhyBYECe5sD"
   },
   "source": [
    "This fully connected classifier receives an hypercolumn (one dimension vector) and classifies it into one of the 21 classes. The fully connected layers can be transformed to 1x1 convolutions. This enhances performance because  It allows us to “slide” the original weights very efficiently across many spatial positions in a larger image, in a single forward pass. Therefore, the **fully connected classifier is converted into a Dense classifier of 1x1 convolution.**"
   ]
  },
  {
   "cell_type": "code",
   "execution_count": null,
   "metadata": {
    "id": "z7zB-g2rsOaL"
   },
   "outputs": [],
   "source": [
    "class DenseClassifier(nn.Module):\n",
    "\n",
    "    def __init__(self, fc_model, n_classes=21):\n",
    "        super(DenseClassifier, self).__init__()\n",
    "\n",
    "        self.mean = torch.Tensor(np.load(root_dir+\"/hypercolumn_samples/mean.npy\")) # It has shape [1472]\n",
    "        self.std = torch.Tensor(np.load(root_dir+\"/hypercolumn_samples/std.npy\")) # It has shape [1472]\n",
    "\n",
    "        # Add these trailing dimensions so that it broadcasts correctly.\n",
    "        self.mean = torch.Tensor(np.expand_dims(np.expand_dims(self.mean, -1), -1)) # Expands to an array of shape (len(mean), 1, 1)\n",
    "        self.std = torch.Tensor(np.expand_dims(np.expand_dims(self.std, -1), -1))  \n",
    "\n",
    "        self.mean = self.mean.to(device=device)\n",
    "        self.std = self.std.to(device=device)      \n",
    "        \n",
    "        #Convert a fully connected classifier to 1x1 convolutional. fc_model.children has two fully connected layers (linear)    \n",
    "        # (fc1): Linear(in_features=1472, out_features=512, bias=True), (fc2): Linear(in_features=512, out_features=21, bias=True) \n",
    "        # It will transfer weights and bias from fc layers to the conv 1x1 layers       \n",
    "        for index, fc_layer in enumerate(fc_model.children()):\n",
    "\n",
    "            fc_layer_params = fc_layer.state_dict() # get dictionary that maps the layer to its parameter tensor. Get weight as key and the values (weights-params) as value\n",
    "            dim_out, dim_in = fc_layer_params[\"weight\"].shape # Shape of the weights: [512, 1472] and [21, 512]\n",
    "            \n",
    "            #Declare the convolution layer\n",
    "            convolution = nn.Conv2d(dim_in, dim_out, 1,1) # Creates the 1x1 conv layer with same dims as weigths of fc layer\n",
    "\n",
    "            #Load the weights into the new conv layer\n",
    "            convolution.load_state_dict(\n",
    "                {\"weight\":fc_layer_params[\"weight\"].view(dim_out, dim_in, 1,1),\"bias\":fc_layer_params[\"bias\"]})\n",
    "\n",
    "            #Set the convolution layers to dense classifier (this class)\n",
    "            setattr(self, \"conv\"+str(index+1), convolution)\n",
    "\n",
    "    def forward(self, x): #x.shape = (n,1472,224,224)\n",
    "\n",
    "        # batch normalization\n",
    "        x = (x - self.mean)/(self.std+ 1e-5)\n",
    "\n",
    "        x = self.conv1(x)\n",
    "        x = F.relu(x)\n",
    "\n",
    "        x = self.conv2(x)\n",
    "        x = F.relu(x)\n",
    "    \n",
    "        return x"
   ]
  },
  {
   "cell_type": "markdown",
   "metadata": {
    "id": "BIfcEBZ8t3r5"
   },
   "source": [
    "### Complete training of the classifier\n",
    "\n",
    "The last step is to train the pixel wise classifier with all the hypercolumns for each image. However, some functions are implemented before training and validation steps. \n",
    "\n",
    "The function *'visualize'* is in charge of creating the predicted image and the ground truth masks image. So, it receives the predicted labels and color the pixels by taking into account the predictions and the pascal labels (contains the predefined color for each class)."
   ]
  },
  {
   "cell_type": "code",
   "execution_count": null,
   "metadata": {
    "id": "gYECZP56vJpq"
   },
   "outputs": [],
   "source": [
    "pascal_labels = np.asarray([[0,0,0], [128,0,0], [0,128,0], [128,128,0], [0,0,128], [128,0,128],\n",
    "        [0,128,128], [128,128,128], [64,0,0], [192,0,0], [64,128,0], [192,128,0],\n",
    "        [64,0,128], [192,0,128], [64,128,128], [192,128,128], [0, 64,0], [128, 64, 0],\n",
    "        [0,192,0], [128,192,0], [0,64,128]])\n",
    "\n",
    "def visualize(predicted_label):\n",
    "    #Apparently it outputs the images with the predicted label from the list pascal_labels\n",
    "    label = predicted_label\n",
    "\n",
    "    # Create image of 3 channels\n",
    "    label_viz = np.zeros((label.shape[0], label.shape[1], 3))\n",
    "\n",
    "    # Get classes labels present in predicted_label\n",
    "    for unique_class in np.unique(label):\n",
    "        if unique_class != 0: # For classes other than backgorund\n",
    "            indices = np.argwhere(label==unique_class) # obtain indices where the pixel belongs to class unique_class\n",
    "            for idx in range(indices.shape[0]):\n",
    "                # Color each of these indexes with the predefined color for each class (present in pascal_labels)\n",
    "                label_viz[indices[idx, 0], indices[idx, 1], :] = pascal_labels[unique_class,:] \n",
    "\n",
    "    return label_viz\n",
    "    #cv2.imwrite(path, label_viz)\n",
    "    #root_dir+\"/images/masks.jpg\"\n",
    "    #imageio.imwrite(path, label_viz)"
   ]
  },
  {
   "cell_type": "markdown",
   "metadata": {
    "id": "Z9Od8FVE8q8l"
   },
   "source": [
    "This is a function to compute label accuracy score"
   ]
  },
  {
   "cell_type": "code",
   "execution_count": null,
   "metadata": {
    "id": "bWCVALBr06yR"
   },
   "outputs": [],
   "source": [
    "# Originally written by wkentaro\n",
    "# https://github.com/wkentaro/pytorch-fcn/blob/master/torchfcn/utils.py\n",
    "\n",
    "#import numpy as np\n",
    "\n",
    "def _fast_hist(label_true, label_pred, n_class):\n",
    "    mask = (label_true >= 0) & (label_true < n_class)\n",
    "    hist = np.bincount(\n",
    "        n_class * label_true[mask].astype(int) +\n",
    "        label_pred[mask], minlength=n_class**2).reshape(n_class, n_class)\n",
    "    return hist\n",
    "\n",
    "def label_accuracy_score(label_trues, label_preds, n_class):\n",
    "    \"\"\"Returns accuracy score evaluation result.\n",
    "      - overall accuracy\n",
    "      - mean accuracy\n",
    "      - mean IU\n",
    "      - fwavacc\n",
    "    \"\"\"\n",
    "    hist = np.zeros((n_class, n_class))\n",
    "    for lt, lp in zip(label_trues, label_preds):\n",
    "        hist += _fast_hist(lt.flatten(), lp.flatten(), n_class)\n",
    "    acc = np.diag(hist).sum() / hist.sum()\n",
    "    with np.errstate(divide='ignore', invalid='ignore'):\n",
    "        acc_cls = np.diag(hist) / hist.sum(axis=1)\n",
    "    acc_cls = np.nanmean(acc_cls)\n",
    "    with np.errstate(divide='ignore', invalid='ignore'):\n",
    "        iu = np.diag(hist) / (\n",
    "            hist.sum(axis=1) + hist.sum(axis=0) - np.diag(hist)\n",
    "        )\n",
    "    mean_iu = np.nanmean(iu)\n",
    "    freq = hist.sum(axis=1) / hist.sum()\n",
    "    fwavacc = (freq[freq > 0] * iu[freq > 0]).sum()\n",
    "    return acc, acc_cls, mean_iu, fwavacc\n"
   ]
  },
  {
   "cell_type": "markdown",
   "metadata": {
    "id": "mRtw41xx8yvV"
   },
   "source": [
    "Finally, the general process to train and test the complete models is defined. These training process takes into account all pixels from all images."
   ]
  },
  {
   "cell_type": "code",
   "execution_count": null,
   "metadata": {
    "colab": {
     "base_uri": "https://localhost:8080/"
    },
    "id": "NcgODwHH8NaL",
    "outputId": "85b7eb1d-5315-4b6f-f6cc-63a9d576dfc3"
   },
   "outputs": [
    {
     "name": "stdout",
     "output_type": "stream",
     "text": [
      "using device: cuda\n"
     ]
    }
   ],
   "source": [
    "def cross_entropy2d(predicts, targets):\n",
    "\n",
    "    unique_targets, counts = torch.unique(targets, return_counts=True)\n",
    "\n",
    "    logsoftmax = nn.LogSoftmax(dim=1)\n",
    "\n",
    "    #weight (Tensor, optional) – a manual rescaling weight given to each class. If given, it has to be a Tensor of size C. Otherwise, it is treated as if having all ones.\n",
    "    weights = torch.zeros([21], dtype=torch.float64)\n",
    "    for i in range(len(unique_targets)):\n",
    "        weights[unique_targets[i]] = 1/counts[i].float()\n",
    "\n",
    "    weights = weights.to(device=device)\n",
    "    loss = nn.NLLLoss(weight=weights.float())\n",
    "    output = loss(logsoftmax(predicts),targets)  \n",
    "\n",
    "    return output\n",
    "\n",
    "\n",
    "def train(args, hypercolumn, model, train_loader, optimizer, epoch):\n",
    "    count = 0\n",
    "    model = model.to(device=device)\n",
    "    losses = []\n",
    "\n",
    "    #model.train() tells the model that you are training the model. So effectively layers like dropout, batchnorm etc. which behave different on the train and test procedures know what is going on and hence can behave accordingly. \n",
    "    model.train()\n",
    "\n",
    "    for batch_idx, (images, labels) in enumerate(train_loader):\n",
    "\n",
    "        if(USE_GPU and torch.cuda.is_available()):\n",
    "            images = images.cuda(device)\n",
    "            labels = labels.cuda(device)\n",
    "\n",
    "        #Generate tensor of features (hypercolumns) of every image\n",
    "        images_features = []\n",
    "        for image in images:\n",
    "            with torch.no_grad():\n",
    "                if not (USE_GPU and torch.cuda.is_available()):\n",
    "                    image = image.cpu()\n",
    "                z = hypercolumn.forward(image.float().unsqueeze(0))# # Obtain hypercolumns for each pixel of image\n",
    "            images_features.append(z)       \n",
    "        \n",
    "        # features contains the hypercolumns, a tensor of shape [2, 1472, 224, 224]. Each pixel is an hypercolumn: \n",
    "        # [#images in batch, # length of hypercolumn, heigh, width]\n",
    "        features = torch.cat(images_features, dim = 0)\n",
    "\n",
    "        features = features.to(device=device)\n",
    "\n",
    "        model.train() #Set model in train mode\n",
    "\n",
    "        optimizer.zero_grad() #zero out all of the gradients \n",
    "\n",
    "        # predictions is a tensor of shape [2, 21, 224, 224], so each pixel has a score for each class from the 21 classes\n",
    "        predicts = model.forward(features)\n",
    "\n",
    "        # labels is a tensor of shape [2, 224, 224]. It contains a label per each pixel\n",
    "        loss = cross_entropy2d(predicts, labels)\n",
    "        loss.backward()\n",
    "        optimizer.step()\n",
    "\n",
    "        losses.append(loss.data.item())\n",
    "\n",
    "        if batch_idx % 100 == 0:\n",
    "            count = count + 1\n",
    "            print(\"Epoch [%d/%d] Loss: %.4f\" % (epoch+1, args['n_epoch'], loss.data.item()))\n",
    "\n",
    "        if batch_idx % 100 == 0:\n",
    "            \"\"\"\n",
    "            Visualization of results.\n",
    "            \"\"\"\n",
    "            #Take the first image of this batch to be visualized\n",
    "            pred = predicts[0,:,:,:] # predicts is shape [2, 21, 224, 224]\n",
    "            gt = labels[0,:,:].data.cpu().numpy().squeeze()\n",
    "            im = images[0,:,:,:].data.cpu().numpy().squeeze()\n",
    "            im = np.swapaxes(im, 0, 2)\n",
    "            im = np.swapaxes(im, 0, 1)\n",
    "            _, pred_mx = torch.max(pred, 0) # Get index of maximum value for each pixel which is the class for each pixel\n",
    "            pred = pred_mx.data.cpu().numpy().squeeze()\n",
    "            image = Image.fromarray(im.astype(np.uint8), mode='RGB')\n",
    "\n",
    "            #cv2.imwrite(root_dir+\"/images/imgs/\" + str(count) + \"_\" + str(epoch) + \"_.png\", image)\n",
    "            image.save(root_dir+\"/images/imgs/\" + str(count) + \"_\" + str(epoch) + \"_.png\")\n",
    "            cv2.imwrite(root_dir+\"/images/masks/pred_\" + str(count) + \"_\" + str(epoch) + \".png\", visualize(pred))\n",
    "            cv2.imwrite(root_dir+\"/images/masks/gt_\" + str(count) + \"_\" + str(epoch) + \".png\", visualize(gt))\n",
    "\n",
    "    # Save your model periodically\n",
    "    torch.save(model, root_dir+\"/models/full_model.pkl\")\n",
    "    return np.average(losses)\n",
    "\n",
    "def val(args, hypercolumn, model, val_loader):\n",
    "\n",
    "    # modified from https://github.com/wkentaro/pytorch-fcn/blob/master/examples/voc/evaluate.py\n",
    "    model = model.to(device=device)\n",
    "\n",
    "    model.eval()\n",
    "    print(\"Validating...\")\n",
    "    label_trues, label_preds = [], []\n",
    "\n",
    "    # For each image in validation set, get prediction and pair each pixel to its ground truth label. The pairs for all images\n",
    "    # will be saved in label_trues, label_preds\n",
    "    for batch_idx, (data, target) in enumerate(val_loader):\n",
    "\n",
    "        # Each data and target correspond to one image from validation set \n",
    "        data, target = data.float(), target.float()\n",
    "        #print(data.shape)\n",
    "        #print(target.shape)\n",
    "\n",
    "        data = data.to(device=device)\n",
    "        target = target.to(device=device)\n",
    "\n",
    "        score = model.forward(hypercolumn(data))\n",
    "\n",
    "        _, pred = torch.max(score, 1)#0\n",
    "        lbl_pred = pred.data.cpu().numpy().astype(np.int64)\n",
    "        lbl_true = target.data.cpu().numpy().astype(np.int64)\n",
    "\n",
    "        for _, lt, lp in zip(_, lbl_true, lbl_pred):\n",
    "            label_trues.append(lt)\n",
    "            label_preds.append(lp)\n",
    "\n",
    "    n_class = 21\n",
    "    metrics = label_accuracy_score(label_trues, label_preds, n_class=n_class)\n",
    "    metrics = np.array(metrics)\n",
    "    metrics *= 100\n",
    "    print('''\\\n",
    "    Accuracy: {0}\n",
    "    Accuracy Class: {1}\n",
    "    Mean IU: {2}\n",
    "    FWAV Accuracy: {3}'''.format(*metrics))\n",
    "    #accuracies.append(metrics[0])\n",
    "    #iou.append(metrics[2])\n",
    "\n",
    "    return metrics\n",
    "\n",
    "\n",
    "USE_GPU = True\n",
    "dtype = torch.float32\n",
    "if USE_GPU and torch.cuda.is_available():\n",
    "    device = torch.device('cuda')\n",
    "else:\n",
    "    device = torch.device('cpu')\n",
    "print('using device:', device)\n"
   ]
  },
  {
   "cell_type": "markdown",
   "metadata": {
    "id": "cJfu9LuQmyTu"
   },
   "source": [
    "The following cell runs the training and validating  processes defined before. The net variable can take two values: 'vgg' and 'sqn' to define the CNN to use, VGG-11 or SqueezeNet. "
   ]
  },
  {
   "cell_type": "code",
   "execution_count": null,
   "metadata": {
    "colab": {
     "base_uri": "https://localhost:8080/"
    },
    "id": "CU2uqnu_8X3j",
    "outputId": "75a05dc1-31c5-4487-8f50-5ff89133b9cd"
   },
   "outputs": [
    {
     "name": "stdout",
     "output_type": "stream",
     "text": [
      "using VGG-11\n"
     ]
    },
    {
     "name": "stderr",
     "output_type": "stream",
     "text": [
      "/usr/local/lib/python3.7/dist-packages/torch/utils/data/dataloader.py:477: UserWarning: This DataLoader will create 4 worker processes in total. Our suggested max number of worker in current system is 2, which is smaller than what this DataLoader is going to create. Please be aware that excessive worker creation might get DataLoader running slow or even freeze, lower the worker number to avoid potential slowness/freeze if necessary.\n",
      "  cpuset_checked))\n"
     ]
    }
   ],
   "source": [
    "net = cnn\n",
    "args = {'batch_size': 2, 'l_rate':0.001, 'model_path':root_dir+\"/models/trained/\"+net+\"/fc_cls.pkl\", 'n_epoch':10}\n",
    "\n",
    "hypercolumn = Hypercolumn(net).float() # Create class for hypercolumns, downloads and load model VGG into zoomout, extracts layers of interest\n",
    "hypercolumn = hypercolumn.to(device=device)\n",
    "\n",
    "\n",
    "# we will not train the feature extractor\n",
    "for param in hypercolumn.parameters():\n",
    "    param.requires_grad = False\n",
    "\n",
    "# load classifier in /models. This classifier is a fc that classifies hypercolumns (saved in feats_x.npy). It has 2 fc layers.\n",
    "fc_classifier = torch.load(args['model_path']) \n",
    "fc_classifier = fc_classifier.to(device=device)\n",
    "\n",
    "# take fc classifier and convert it in a dense classifier. It converts the fully connected classifier to 1x1 convolutional.\n",
    "# This is the classifier that is trained with all of the hypercolumns to classify pixels (semantic segmentation)\n",
    "classifier = DenseClassifier(fc_model=fc_classifier).float() \n",
    "classifier = classifier.to(device=device)\n",
    "\n",
    "optimizer = optim.Adam(classifier.parameters(), lr=args['l_rate'])# Start in range [1e-3, 1e-4].\n",
    "\n",
    "# It loads images paths into lists and define methods to get item, get len\n",
    "# It defines it as a map-style dataset which implements the __getitem__() and __len__() protocols\n",
    "dataset_train = PascalVOC(split = 'train')\n",
    "dataset_val = PascalVOC(split = 'val')\n",
    "\n",
    "train_loader = torch.utils.data.DataLoader(dataset_train, batch_size=args['batch_size'], shuffle=True, num_workers=4)\n",
    "\n",
    "val_loader = torch.utils.data.DataLoader(dataset_val, batch_size=1, shuffle=False, num_workers=4)\n"
   ]
  },
  {
   "cell_type": "markdown",
   "metadata": {
    "id": "pmLAx1W6nL0i"
   },
   "source": [
    "The next blocks will deploy the figures for loss, accuracy and intersection over union so that we can see the performance of each model."
   ]
  },
  {
   "cell_type": "code",
   "execution_count": null,
   "metadata": {
    "colab": {
     "base_uri": "https://localhost:8080/"
    },
    "id": "OP41jttpOs-V",
    "outputId": "0e2a04fb-e0f2-41b1-e48f-f65725af4395"
   },
   "outputs": [
    {
     "name": "stdout",
     "output_type": "stream",
     "text": [
      "0\n"
     ]
    },
    {
     "name": "stderr",
     "output_type": "stream",
     "text": [
      "/usr/local/lib/python3.7/dist-packages/torch/utils/data/dataloader.py:477: UserWarning: This DataLoader will create 4 worker processes in total. Our suggested max number of worker in current system is 2, which is smaller than what this DataLoader is going to create. Please be aware that excessive worker creation might get DataLoader running slow or even freeze, lower the worker number to avoid potential slowness/freeze if necessary.\n",
      "  cpuset_checked))\n"
     ]
    },
    {
     "name": "stdout",
     "output_type": "stream",
     "text": [
      "Epoch [1/10] Loss: 2.3134\n",
      "Epoch [1/10] Loss: 1.8198\n",
      "Epoch [1/10] Loss: 2.2999\n",
      "Epoch [1/10] Loss: 2.6376\n",
      "Epoch [1/10] Loss: 2.7231\n",
      "Epoch [1/10] Loss: 2.5570\n",
      "Epoch [1/10] Loss: 2.0312\n",
      "Epoch [1/10] Loss: 2.3903\n",
      "Validating...\n",
      "    Accuracy: 67.72866205229504\n",
      "    Accuracy Class: 16.223226345570193\n",
      "    Mean IU: 8.986053682517682\n",
      "    FWAV Accuracy: 56.91782554818793\n",
      "1\n",
      "Epoch [2/10] Loss: 3.0097\n",
      "Epoch [2/10] Loss: 1.6236\n",
      "Epoch [2/10] Loss: 2.1389\n",
      "Epoch [2/10] Loss: 2.9321\n",
      "Epoch [2/10] Loss: 2.1172\n",
      "Epoch [2/10] Loss: 2.3954\n",
      "Epoch [2/10] Loss: 3.2899\n",
      "Epoch [2/10] Loss: 1.8438\n",
      "Validating...\n",
      "    Accuracy: 64.35226401960887\n",
      "    Accuracy Class: 18.947803573397785\n",
      "    Mean IU: 10.361796846455595\n",
      "    FWAV Accuracy: 54.76343921393146\n",
      "2\n",
      "Epoch [3/10] Loss: 1.8119\n"
     ]
    }
   ],
   "source": [
    "#metrics = np.array(args['n_epoch'])\n",
    "metrics = []\n",
    "losses = []\n",
    "for epoch in range(args['n_epoch']):\n",
    "    print(epoch)\n",
    "    loss = train(args, hypercolumn, classifier, train_loader, optimizer, epoch)\n",
    "    losses.append(loss)\n",
    "    metrics.append(val(args, hypercolumn, classifier, val_loader))\n",
    "\n",
    "#print(metrics)\n",
    "#print(losses)"
   ]
  },
  {
   "cell_type": "code",
   "execution_count": null,
   "metadata": {
    "colab": {
     "base_uri": "https://localhost:8080/",
     "height": 1000
    },
    "id": "fC1NMODE9Yx0",
    "outputId": "20a859f2-8e37-4ba2-8b22-0801a26aceb4"
   },
   "outputs": [
    {
     "name": "stderr",
     "output_type": "stream",
     "text": [
      "No handles with labels found to put in legend.\n"
     ]
    },
    {
     "data": {
      "image/png": "[encoded data removed]",
      "text/plain": [
       "<Figure size 432x288 with 1 Axes>"
      ]
     },
     "metadata": {
      "needs_background": "light",
      "tags": []
     },
     "output_type": "display_data"
    },
    {
     "name": "stderr",
     "output_type": "stream",
     "text": [
      "No handles with labels found to put in legend.\n"
     ]
    },
    {
     "data": {
      "image/png": "[encoded data removed]",
      "text/plain": [
       "<Figure size 432x288 with 1 Axes>"
      ]
     },
     "metadata": {
      "needs_background": "light",
      "tags": []
     },
     "output_type": "display_data"
    },
    {
     "name": "stderr",
     "output_type": "stream",
     "text": [
      "No handles with labels found to put in legend.\n"
     ]
    },
    {
     "data": {
      "image/png": "[encoded data removed]",
      "text/plain": [
       "<Figure size 432x288 with 1 Axes>"
      ]
     },
     "metadata": {
      "needs_background": "light",
      "tags": []
     },
     "output_type": "display_data"
    },
    {
     "name": "stderr",
     "output_type": "stream",
     "text": [
      "No handles with labels found to put in legend.\n"
     ]
    },
    {
     "data": {
      "image/png": "[encoded data removed]",
      "text/plain": [
       "<Figure size 432x288 with 1 Axes>"
      ]
     },
     "metadata": {
      "needs_background": "light",
      "tags": []
     },
     "output_type": "display_data"
    }
   ],
   "source": [
    "def plot_curve(x, y, x_name, y_name, title):\n",
    "    plt.plot(x,y)\n",
    "    plt.xlabel(x_name)\n",
    "    plt.ylabel(y_name)\n",
    "    plt.title(title)\n",
    "    plt.legend()\n",
    "    plt.show()\n",
    "\n",
    "m = np.array(metrics)\n",
    "acc = np.array(metrics)[:,0]\n",
    "iou = np.array(metrics)[:,2]\n",
    "\n",
    "plot_curve(range(acc.shape[0]), acc, \"epochs\", \"accuracy\", \"Accuracy\")\n",
    "plot_curve(range(iou.shape[0]), iou, \"epochs\", \"IoU\", \"Intersectino over Union\")\n",
    "plot_curve(range(len(losses)), losses, \"epochs\", \"loss\", \"Loss\")\n",
    "\n",
    "plt.ylim([0, 100])\n",
    "plot_curve(range(acc.shape[0]), acc, \"epochs\", \"accuracy\", \"Accuracy\")"
   ]
  },
  {
   "cell_type": "markdown",
   "metadata": {
    "id": "0ehUt3_pourn"
   },
   "source": [
    "## Unit testing of the model\n",
    "\n",
    "Finally, a function to load the full trained model and test it on a single image is defined. It allows to run the model and display  the image and predicted mask. It presents the qualitative results."
   ]
  },
  {
   "cell_type": "code",
   "execution_count": null,
   "metadata": {
    "colab": {
     "base_uri": "https://localhost:8080/",
     "height": 465
    },
    "id": "kXxL4SWnO3wC",
    "outputId": "af1f59f5-d686-42e2-8b8f-97c8336807e8"
   },
   "outputs": [
    {
     "data": {
      "image/png": "[encoded data removed]",
      "text/plain": [
       "<PIL.Image.Image image mode=RGB size=224x224 at 0x7FE65C348D10>"
      ]
     },
     "metadata": {
      "tags": []
     },
     "output_type": "display_data"
    },
    {
     "data": {
      "image/png": "[encoded data removed]",
      "text/plain": [
       "<PIL.Image.Image image mode=RGB size=224x224 at 0x7FE6057F3890>"
      ]
     },
     "metadata": {
      "tags": []
     },
     "output_type": "display_data"
    }
   ],
   "source": [
    "def get_image(img_name, gt=False): \n",
    "    returned_imgs = []    \n",
    "    # Get each images and corresponding label\n",
    "    img_path = root_dir + '/images/test/' + img_name + '.jpg'\n",
    "    pil_img = Image.open(img_path).convert('RGB')\n",
    "    pil_img = pil_img.resize((224, 224), PIL.Image.BILINEAR)\n",
    "    img = np.array(pil_img)\n",
    "    pil_img = 0    \n",
    "    img = np.swapaxes(img, 0, 2)\n",
    "    img = np.swapaxes(img, 1, 2)\n",
    "    returned_imgs.append(torch.from_numpy(img))\n",
    "    \n",
    "    if gt:\n",
    "        label_path = root_dir + '/images/test/' + img_name + 'gt.png'\n",
    "        pil_lbl = Image.open(label_path).convert(\"P\")\n",
    "        pil_lbl = pil_lbl.resize((224, 224), PIL.Image.NEAREST)\n",
    "        lbl = np.array(pil_lbl)\n",
    "        lbl[lbl==255] = 0 # Set region's white boarders to black\n",
    "        pil_lbl = 0  \n",
    "returned_imgs.append(torch.from_numpy(lbl).long())              \n",
    "\n",
    "    return returned_imgs\n",
    "\n",
    "def run_model(img_name, gt=False):\n",
    "    net = 'sqn'\n",
    "    image = get_image(img_name, gt)\n",
    "    model = torch.load(root_dir+\"/models/trained/\"+net+\"/full_model.pkl\")\n",
    "\n",
    "    model.eval()\n",
    "\n",
    "    with torch.no_grad():\n",
    "\n",
    "        data = image[0].float()\n",
    "        data = torch.Tensor(np.expand_dims(data, 0))\n",
    "\n",
    "        data = data.to(device=device)\n",
    "\n",
    "        score = model.forward(hypercolumn(data))\n",
    "\n",
    "        #Take the first image of this batch to be visualized\n",
    "        im = data.data.cpu().numpy().squeeze()\n",
    "        im = np.swapaxes(im, 0, 2)\n",
    "        im = np.swapaxes(im, 0, 1)\n",
    "        _, pred_mx = torch.max(score, 1)#\n",
    "        pred = pred_mx.data.cpu().numpy().squeeze()\n",
    "        #img = Image.fromarray(im.astype(np.uint8), mode='RGB')\n",
    "        pred = visualize(pred)\n",
    "        cv2_imshow(im)\n",
    "        cv2_imshow(pred)\n",
    "\n",
    "        if len(image)==2:\n",
    "            target = image[1].float()\n",
    "            target = target.to(device=device)\n",
    "            gt = target.data.cpu().numpy().squeeze()\n",
    "            cv2_imshow(pred.numpy())\n",
    "            lbl_pred = pred.data.cpu().numpy().astype(np.int64)\n",
    "            lbl_true = target.data.cpu().numpy().astype(np.int64)\n",
    "\n",
    "            for _, lt, lp in zip(_, lbl_true, lbl_pred):\n",
    "                label_trues.append(lt)\n",
    "                label_preds.append(lp)\n",
    "\n",
    "            n_class = 21\n",
    "            metrics = label_accuracy_score(label_trues, label_preds, n_class=n_class)\n",
    "            metrics = np.array(metrics)\n",
    "            metrics *= 100\n",
    "            print('''\\\n",
    "            Accuracy: {0}\n",
    "            Accuracy Class: {1}\n",
    "            Mean IU: {2}\n",
    "            FWAV Accuracy: {3}'''.format(*metrics))\n",
    "\n",
    "run_model(\"2007_004830\")"
   ]
  },
  {
   "cell_type": "markdown",
   "metadata": {
    "id": "sWp8jhJ7yTho"
   },
   "source": [
    "### References\n",
    "\n",
    "https://blog.christianperone.com/2016/01/convolutional-hypercolumns-in-python/\n",
    "\n",
    "https://github.com/xksteven/Sparse-Hypercolumns\n",
    "\n",
    "https://github.com/fhalamos/semantic-segmentation-with-cnn\n",
    "\n",
    "https://github.com/BerenLuthien/HyperColumns_ImageColorization\n"
   ]
  }
 ],
 "metadata": {
  "accelerator": "GPU",
  "colab": {
   "collapsed_sections": [],
   "name": "adv_vision_project_sub.ipynb",
   "provenance": []
  },
  "kernelspec": {
   "display_name": "Python 3",
   "language": "python",
   "name": "python3"
  },
  "language_info": {
   "codemirror_mode": {
    "name": "ipython",
    "version": 3
   },
   "file_extension": ".py",
   "mimetype": "text/x-python",
   "name": "python",
   "nbconvert_exporter": "python",
   "pygments_lexer": "ipython3",
   "version": "3.8.12"
  }
 },
 "nbformat": 4,
 "nbformat_minor": 1
}
